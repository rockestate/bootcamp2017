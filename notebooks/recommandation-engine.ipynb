{
 "cells": [
  {
   "cell_type": "code",
   "execution_count": 1,
   "metadata": {},
   "outputs": [],
   "source": [
    "import numpy as np\n",
    "import pandas as pd\n",
    "\n",
    "from matplotlib import pyplot as plt\n",
    "from scipy.stats import beta\n",
    "from sklearn.ensemble import RandomForestClassifier\n",
    "from sklearn.model_selection import GridSearchCV, cross_val_predict\n",
    "\n",
    "%matplotlib inline"
   ]
  },
  {
   "cell_type": "markdown",
   "metadata": {},
   "source": [
    "# Exploration"
   ]
  },
  {
   "cell_type": "code",
   "execution_count": 2,
   "metadata": {},
   "outputs": [
    {
     "data": {
      "text/html": [
       "<div>\n",
       "<style>\n",
       "    .dataframe thead tr:only-child th {\n",
       "        text-align: right;\n",
       "    }\n",
       "\n",
       "    .dataframe thead th {\n",
       "        text-align: left;\n",
       "    }\n",
       "\n",
       "    .dataframe tbody tr th {\n",
       "        vertical-align: top;\n",
       "    }\n",
       "</style>\n",
       "<table border=\"1\" class=\"dataframe\">\n",
       "  <thead>\n",
       "    <tr style=\"text-align: right;\">\n",
       "      <th></th>\n",
       "      <th>feedback</th>\n",
       "      <th>name</th>\n",
       "      <th>question</th>\n",
       "      <th>round</th>\n",
       "      <th>best_of_name</th>\n",
       "      <th>model_id</th>\n",
       "      <th>user_id</th>\n",
       "      <th>x_questions</th>\n",
       "    </tr>\n",
       "  </thead>\n",
       "  <tbody>\n",
       "    <tr>\n",
       "      <th>0</th>\n",
       "      <td>-1</td>\n",
       "      <td>Lio</td>\n",
       "      <td>1</td>\n",
       "      <td>1</td>\n",
       "      <td>False</td>\n",
       "      <td>3dxqYZDIqnnbnJRwd9xF</td>\n",
       "      <td>x7cU2PT7nm4vlv41PTd4</td>\n",
       "      <td>20</td>\n",
       "    </tr>\n",
       "    <tr>\n",
       "      <th>1</th>\n",
       "      <td>-1</td>\n",
       "      <td>Sara</td>\n",
       "      <td>1</td>\n",
       "      <td>1</td>\n",
       "      <td>False</td>\n",
       "      <td>3dxqYZDIqnnbnJRwd9xF</td>\n",
       "      <td>x7cU2PT7nm4vlv41PTd4</td>\n",
       "      <td>20</td>\n",
       "    </tr>\n",
       "    <tr>\n",
       "      <th>2</th>\n",
       "      <td>3</td>\n",
       "      <td>Marilou</td>\n",
       "      <td>1</td>\n",
       "      <td>1</td>\n",
       "      <td>False</td>\n",
       "      <td>3dxqYZDIqnnbnJRwd9xF</td>\n",
       "      <td>x7cU2PT7nm4vlv41PTd4</td>\n",
       "      <td>20</td>\n",
       "    </tr>\n",
       "    <tr>\n",
       "      <th>3</th>\n",
       "      <td>-1</td>\n",
       "      <td>Chloé</td>\n",
       "      <td>1</td>\n",
       "      <td>1</td>\n",
       "      <td>False</td>\n",
       "      <td>3dxqYZDIqnnbnJRwd9xF</td>\n",
       "      <td>x7cU2PT7nm4vlv41PTd4</td>\n",
       "      <td>20</td>\n",
       "    </tr>\n",
       "    <tr>\n",
       "      <th>4</th>\n",
       "      <td>-1</td>\n",
       "      <td>Iluna</td>\n",
       "      <td>2</td>\n",
       "      <td>1</td>\n",
       "      <td>False</td>\n",
       "      <td>3dxqYZDIqnnbnJRwd9xF</td>\n",
       "      <td>x7cU2PT7nm4vlv41PTd4</td>\n",
       "      <td>20</td>\n",
       "    </tr>\n",
       "    <tr>\n",
       "      <th>5</th>\n",
       "      <td>3</td>\n",
       "      <td>Mira</td>\n",
       "      <td>2</td>\n",
       "      <td>1</td>\n",
       "      <td>False</td>\n",
       "      <td>3dxqYZDIqnnbnJRwd9xF</td>\n",
       "      <td>x7cU2PT7nm4vlv41PTd4</td>\n",
       "      <td>20</td>\n",
       "    </tr>\n",
       "    <tr>\n",
       "      <th>6</th>\n",
       "      <td>-1</td>\n",
       "      <td>Zoë</td>\n",
       "      <td>2</td>\n",
       "      <td>1</td>\n",
       "      <td>False</td>\n",
       "      <td>3dxqYZDIqnnbnJRwd9xF</td>\n",
       "      <td>x7cU2PT7nm4vlv41PTd4</td>\n",
       "      <td>20</td>\n",
       "    </tr>\n",
       "    <tr>\n",
       "      <th>7</th>\n",
       "      <td>-1</td>\n",
       "      <td>Helena</td>\n",
       "      <td>2</td>\n",
       "      <td>1</td>\n",
       "      <td>False</td>\n",
       "      <td>3dxqYZDIqnnbnJRwd9xF</td>\n",
       "      <td>x7cU2PT7nm4vlv41PTd4</td>\n",
       "      <td>20</td>\n",
       "    </tr>\n",
       "    <tr>\n",
       "      <th>8</th>\n",
       "      <td>-1</td>\n",
       "      <td>June</td>\n",
       "      <td>3</td>\n",
       "      <td>1</td>\n",
       "      <td>False</td>\n",
       "      <td>3dxqYZDIqnnbnJRwd9xF</td>\n",
       "      <td>x7cU2PT7nm4vlv41PTd4</td>\n",
       "      <td>20</td>\n",
       "    </tr>\n",
       "    <tr>\n",
       "      <th>9</th>\n",
       "      <td>3</td>\n",
       "      <td>Léa</td>\n",
       "      <td>3</td>\n",
       "      <td>1</td>\n",
       "      <td>True</td>\n",
       "      <td>3dxqYZDIqnnbnJRwd9xF</td>\n",
       "      <td>x7cU2PT7nm4vlv41PTd4</td>\n",
       "      <td>20</td>\n",
       "    </tr>\n",
       "  </tbody>\n",
       "</table>\n",
       "</div>"
      ],
      "text/plain": [
       "   feedback     name  question  round  best_of_name              model_id  \\\n",
       "0        -1      Lio         1      1         False  3dxqYZDIqnnbnJRwd9xF   \n",
       "1        -1     Sara         1      1         False  3dxqYZDIqnnbnJRwd9xF   \n",
       "2         3  Marilou         1      1         False  3dxqYZDIqnnbnJRwd9xF   \n",
       "3        -1    Chloé         1      1         False  3dxqYZDIqnnbnJRwd9xF   \n",
       "4        -1    Iluna         2      1         False  3dxqYZDIqnnbnJRwd9xF   \n",
       "5         3     Mira         2      1         False  3dxqYZDIqnnbnJRwd9xF   \n",
       "6        -1      Zoë         2      1         False  3dxqYZDIqnnbnJRwd9xF   \n",
       "7        -1   Helena         2      1         False  3dxqYZDIqnnbnJRwd9xF   \n",
       "8        -1     June         3      1         False  3dxqYZDIqnnbnJRwd9xF   \n",
       "9         3      Léa         3      1          True  3dxqYZDIqnnbnJRwd9xF   \n",
       "\n",
       "                user_id  x_questions  \n",
       "0  x7cU2PT7nm4vlv41PTd4           20  \n",
       "1  x7cU2PT7nm4vlv41PTd4           20  \n",
       "2  x7cU2PT7nm4vlv41PTd4           20  \n",
       "3  x7cU2PT7nm4vlv41PTd4           20  \n",
       "4  x7cU2PT7nm4vlv41PTd4           20  \n",
       "5  x7cU2PT7nm4vlv41PTd4           20  \n",
       "6  x7cU2PT7nm4vlv41PTd4           20  \n",
       "7  x7cU2PT7nm4vlv41PTd4           20  \n",
       "8  x7cU2PT7nm4vlv41PTd4           20  \n",
       "9  x7cU2PT7nm4vlv41PTd4           20  "
      ]
     },
     "execution_count": 2,
     "metadata": {},
     "output_type": "execute_result"
    }
   ],
   "source": [
    "df = pd.read_csv('../data/digitiser_dataset.csv', index_col=0)\n",
    "df = df[df['x_questions']==20]\n",
    "df.head(10)"
   ]
  },
  {
   "cell_type": "code",
   "execution_count": 3,
   "metadata": {},
   "outputs": [
    {
     "data": {
      "text/plain": [
       "Anna     3164\n",
       "Zoé      3071\n",
       "Lou      2898\n",
       "Laura    2897\n",
       "Elize    2894\n",
       "Name: name, dtype: int64"
      ]
     },
     "execution_count": 3,
     "metadata": {},
     "output_type": "execute_result"
    }
   ],
   "source": [
    "views = df['name'].value_counts()\n",
    "views.head()"
   ]
  },
  {
   "cell_type": "code",
   "execution_count": 4,
   "metadata": {},
   "outputs": [
    {
     "data": {
      "text/plain": [
       "Anna    1224\n",
       "Lou     1205\n",
       "Nora    1203\n",
       "Lili    1159\n",
       "Ella    1112\n",
       "Name: name, dtype: int64"
      ]
     },
     "execution_count": 4,
     "metadata": {},
     "output_type": "execute_result"
    }
   ],
   "source": [
    "clicks = df.loc[df['feedback']==3,'name'].value_counts()\n",
    "clicks.head()"
   ]
  },
  {
   "cell_type": "code",
   "execution_count": 5,
   "metadata": {},
   "outputs": [
    {
     "data": {
      "text/html": [
       "<div>\n",
       "<style>\n",
       "    .dataframe thead tr:only-child th {\n",
       "        text-align: right;\n",
       "    }\n",
       "\n",
       "    .dataframe thead th {\n",
       "        text-align: left;\n",
       "    }\n",
       "\n",
       "    .dataframe tbody tr th {\n",
       "        vertical-align: top;\n",
       "    }\n",
       "</style>\n",
       "<table border=\"1\" class=\"dataframe\">\n",
       "  <thead>\n",
       "    <tr style=\"text-align: right;\">\n",
       "      <th></th>\n",
       "      <th>clicks</th>\n",
       "      <th>clicks_per_view</th>\n",
       "      <th>views</th>\n",
       "    </tr>\n",
       "  </thead>\n",
       "  <tbody>\n",
       "    <tr>\n",
       "      <th>Charlie</th>\n",
       "      <td>1.0</td>\n",
       "      <td>1.000000</td>\n",
       "      <td>1</td>\n",
       "    </tr>\n",
       "    <tr>\n",
       "      <th>Minne</th>\n",
       "      <td>2.0</td>\n",
       "      <td>0.666667</td>\n",
       "      <td>3</td>\n",
       "    </tr>\n",
       "    <tr>\n",
       "      <th>Annabelle</th>\n",
       "      <td>2.0</td>\n",
       "      <td>0.666667</td>\n",
       "      <td>3</td>\n",
       "    </tr>\n",
       "    <tr>\n",
       "      <th>Ella</th>\n",
       "      <td>1112.0</td>\n",
       "      <td>0.555445</td>\n",
       "      <td>2002</td>\n",
       "    </tr>\n",
       "    <tr>\n",
       "      <th>Nore</th>\n",
       "      <td>501.0</td>\n",
       "      <td>0.524059</td>\n",
       "      <td>956</td>\n",
       "    </tr>\n",
       "  </tbody>\n",
       "</table>\n",
       "</div>"
      ],
      "text/plain": [
       "           clicks  clicks_per_view  views\n",
       "Charlie       1.0         1.000000      1\n",
       "Minne         2.0         0.666667      3\n",
       "Annabelle     2.0         0.666667      3\n",
       "Ella       1112.0         0.555445   2002\n",
       "Nore        501.0         0.524059    956"
      ]
     },
     "execution_count": 5,
     "metadata": {},
     "output_type": "execute_result"
    }
   ],
   "source": [
    "clicks_per_view = clicks / views\n",
    "name_df = pd.DataFrame({'clicks':clicks, 'views':views, 'clicks_per_view':clicks_per_view})\n",
    "name_df.sort_values('clicks_per_view', ascending=False).head()"
   ]
  },
  {
   "cell_type": "code",
   "execution_count": 6,
   "metadata": {},
   "outputs": [
    {
     "data": {
      "text/plain": [
       "<matplotlib.axes._subplots.AxesSubplot at 0x11c847518>"
      ]
     },
     "execution_count": 6,
     "metadata": {},
     "output_type": "execute_result"
    },
    {
     "data": {
      "image/png": "[encoded data removed]",
      "text/plain": [
       "<matplotlib.figure.Figure at 0x11c847c18>"
      ]
     },
     "metadata": {},
     "output_type": "display_data"
    }
   ],
   "source": [
    "name_df['clicks'].hist(bins=20)"
   ]
  },
  {
   "cell_type": "code",
   "execution_count": 7,
   "metadata": {},
   "outputs": [
    {
     "data": {
      "text/plain": [
       "<matplotlib.axes._subplots.AxesSubplot at 0x119755208>"
      ]
     },
     "execution_count": 7,
     "metadata": {},
     "output_type": "execute_result"
    },
    {
     "data": {
      "image/png": "[encoded data removed]",
      "text/plain": [
       "<matplotlib.figure.Figure at 0x10d1362e8>"
      ]
     },
     "metadata": {},
     "output_type": "display_data"
    }
   ],
   "source": [
    "name_df['views'].hist(bins=20)"
   ]
  },
  {
   "cell_type": "code",
   "execution_count": 8,
   "metadata": {},
   "outputs": [
    {
     "data": {
      "text/plain": [
       "<matplotlib.collections.PathCollection at 0x10d1f6eb8>"
      ]
     },
     "execution_count": 8,
     "metadata": {},
     "output_type": "execute_result"
    },
    {
     "data": {
      "image/png": "[encoded data removed]",
      "text/plain": [
       "<matplotlib.figure.Figure at 0x10d16c128>"
      ]
     },
     "metadata": {},
     "output_type": "display_data"
    }
   ],
   "source": [
    "plt.scatter(name_df['views'], name_df['clicks'])"
   ]
  },
  {
   "cell_type": "markdown",
   "metadata": {},
   "source": [
    "# Bayesian clicks per view"
   ]
  },
  {
   "cell_type": "code",
   "execution_count": 9,
   "metadata": {},
   "outputs": [
    {
     "data": {
      "image/png": "[encoded data removed]",
      "text/plain": [
       "<matplotlib.figure.Figure at 0x11c8474a8>"
      ]
     },
     "metadata": {},
     "output_type": "display_data"
    }
   ],
   "source": [
    "# Get the occurence dataframe\n",
    "name_df['clicks'] = name_df['clicks'].fillna(0)\n",
    "\n",
    "# Calcultate parameters of the priors\n",
    "mu = 0.25\n",
    "var = 0.06\n",
    "prior_a = np.power(((1. - mu) / var - 1. / mu) * mu , 2)\n",
    "prior_b = prior_a * (1. / mu - 1.)\n",
    "\n",
    "x = np.arange(0, 1, 0.01)\n",
    "distribution = beta.pdf(x, prior_a, prior_b)\n",
    "\n",
    "def calculate_baysian_mean(views, clicks):\n",
    "    non_clicks = views - clicks\n",
    "    if(views==0): print('no views')\n",
    "    mean, var, skew, kurt = beta.stats(prior_a + clicks, prior_b + non_clicks, moments='mvsk')\n",
    "    return mean\n",
    "\n",
    "# Calculate for each name the baysian clicks per view\n",
    "name_df['clicks_per_view_baysian'] = name_df.apply(lambda row: calculate_baysian_mean(row['views'], row['clicks']), axis=1)\n",
    "name_df['clicks_per_view_baysian'] = name_df['clicks_per_view_baysian'].astype(float)\n",
    "\n",
    "# Some plots\n",
    "fig, axes = plt.subplots(nrows=1, ncols=2, figsize=(8,4))\n",
    "\n",
    "axes[0].plot(x, distribution)\n",
    "axes[0].set_title('Prior distribution')\n",
    "\n",
    "axes[1].scatter(name_df['clicks_per_view'], name_df['clicks_per_view_baysian'], s=np.log(name_df['views']+1))\n",
    "axes[1].set_title('Baysian click rate')\n",
    "axes[1].set_xlabel('Clicks per view')\n",
    "axes[1].set_ylabel('Clicks per view Baysian')\n",
    "axes[1].set_aspect('equal')\n",
    "\n",
    "fig.tight_layout()\n",
    "\n"
   ]
  },
  {
   "cell_type": "markdown",
   "metadata": {},
   "source": [
    "# Baseline\n"
   ]
  },
  {
   "cell_type": "code",
   "execution_count": 10,
   "metadata": {},
   "outputs": [
    {
     "data": {
      "text/html": [
       "<div>\n",
       "<style>\n",
       "    .dataframe thead tr:only-child th {\n",
       "        text-align: right;\n",
       "    }\n",
       "\n",
       "    .dataframe thead th {\n",
       "        text-align: left;\n",
       "    }\n",
       "\n",
       "    .dataframe tbody tr th {\n",
       "        vertical-align: top;\n",
       "    }\n",
       "</style>\n",
       "<table border=\"1\" class=\"dataframe\">\n",
       "  <thead>\n",
       "    <tr style=\"text-align: right;\">\n",
       "      <th></th>\n",
       "      <th>name</th>\n",
       "      <th>sex</th>\n",
       "      <th>region</th>\n",
       "      <th>year_1995</th>\n",
       "      <th>year_1996</th>\n",
       "      <th>year_1997</th>\n",
       "      <th>year_1998</th>\n",
       "      <th>year_1999</th>\n",
       "      <th>year_2000</th>\n",
       "      <th>year_2001</th>\n",
       "      <th>...</th>\n",
       "      <th>year_2007</th>\n",
       "      <th>year_2008</th>\n",
       "      <th>year_2009</th>\n",
       "      <th>year_2010</th>\n",
       "      <th>year_2011</th>\n",
       "      <th>year_2012</th>\n",
       "      <th>year_2013</th>\n",
       "      <th>year_2014</th>\n",
       "      <th>year_2015</th>\n",
       "      <th>year_2016</th>\n",
       "    </tr>\n",
       "  </thead>\n",
       "  <tbody>\n",
       "    <tr>\n",
       "      <th>0</th>\n",
       "      <td>Aagje</td>\n",
       "      <td>F</td>\n",
       "      <td>Vlaanderen</td>\n",
       "      <td>0.0</td>\n",
       "      <td>10.0</td>\n",
       "      <td>7.0</td>\n",
       "      <td>6.0</td>\n",
       "      <td>5.0</td>\n",
       "      <td>0.0</td>\n",
       "      <td>12.0</td>\n",
       "      <td>...</td>\n",
       "      <td>10.0</td>\n",
       "      <td>11.0</td>\n",
       "      <td>12.0</td>\n",
       "      <td>11.0</td>\n",
       "      <td>8.0</td>\n",
       "      <td>11.0</td>\n",
       "      <td>7.0</td>\n",
       "      <td>0.0</td>\n",
       "      <td>0.0</td>\n",
       "      <td>0.0</td>\n",
       "    </tr>\n",
       "    <tr>\n",
       "      <th>1</th>\n",
       "      <td>Aaliyah</td>\n",
       "      <td>F</td>\n",
       "      <td>Vlaanderen</td>\n",
       "      <td>0.0</td>\n",
       "      <td>0.0</td>\n",
       "      <td>0.0</td>\n",
       "      <td>0.0</td>\n",
       "      <td>0.0</td>\n",
       "      <td>0.0</td>\n",
       "      <td>5.0</td>\n",
       "      <td>...</td>\n",
       "      <td>8.0</td>\n",
       "      <td>7.0</td>\n",
       "      <td>14.0</td>\n",
       "      <td>9.0</td>\n",
       "      <td>9.0</td>\n",
       "      <td>7.0</td>\n",
       "      <td>10.0</td>\n",
       "      <td>11.0</td>\n",
       "      <td>8.0</td>\n",
       "      <td>13.0</td>\n",
       "    </tr>\n",
       "    <tr>\n",
       "      <th>2</th>\n",
       "      <td>Abigail</td>\n",
       "      <td>F</td>\n",
       "      <td>Vlaanderen</td>\n",
       "      <td>0.0</td>\n",
       "      <td>0.0</td>\n",
       "      <td>8.0</td>\n",
       "      <td>0.0</td>\n",
       "      <td>0.0</td>\n",
       "      <td>0.0</td>\n",
       "      <td>5.0</td>\n",
       "      <td>...</td>\n",
       "      <td>0.0</td>\n",
       "      <td>6.0</td>\n",
       "      <td>7.0</td>\n",
       "      <td>8.0</td>\n",
       "      <td>16.0</td>\n",
       "      <td>11.0</td>\n",
       "      <td>10.0</td>\n",
       "      <td>10.0</td>\n",
       "      <td>11.0</td>\n",
       "      <td>12.0</td>\n",
       "    </tr>\n",
       "    <tr>\n",
       "      <th>3</th>\n",
       "      <td>Ada</td>\n",
       "      <td>F</td>\n",
       "      <td>Vlaanderen</td>\n",
       "      <td>0.0</td>\n",
       "      <td>0.0</td>\n",
       "      <td>0.0</td>\n",
       "      <td>0.0</td>\n",
       "      <td>5.0</td>\n",
       "      <td>0.0</td>\n",
       "      <td>6.0</td>\n",
       "      <td>...</td>\n",
       "      <td>12.0</td>\n",
       "      <td>19.0</td>\n",
       "      <td>17.0</td>\n",
       "      <td>20.0</td>\n",
       "      <td>24.0</td>\n",
       "      <td>19.0</td>\n",
       "      <td>28.0</td>\n",
       "      <td>32.0</td>\n",
       "      <td>35.0</td>\n",
       "      <td>27.0</td>\n",
       "    </tr>\n",
       "    <tr>\n",
       "      <th>4</th>\n",
       "      <td>Adeline</td>\n",
       "      <td>F</td>\n",
       "      <td>Vlaanderen</td>\n",
       "      <td>15.0</td>\n",
       "      <td>10.0</td>\n",
       "      <td>11.0</td>\n",
       "      <td>0.0</td>\n",
       "      <td>0.0</td>\n",
       "      <td>0.0</td>\n",
       "      <td>0.0</td>\n",
       "      <td>...</td>\n",
       "      <td>0.0</td>\n",
       "      <td>0.0</td>\n",
       "      <td>0.0</td>\n",
       "      <td>5.0</td>\n",
       "      <td>6.0</td>\n",
       "      <td>8.0</td>\n",
       "      <td>0.0</td>\n",
       "      <td>8.0</td>\n",
       "      <td>0.0</td>\n",
       "      <td>12.0</td>\n",
       "    </tr>\n",
       "  </tbody>\n",
       "</table>\n",
       "<p>5 rows × 25 columns</p>\n",
       "</div>"
      ],
      "text/plain": [
       "      name sex      region  year_1995  year_1996  year_1997  year_1998  \\\n",
       "0    Aagje   F  Vlaanderen        0.0       10.0        7.0        6.0   \n",
       "1  Aaliyah   F  Vlaanderen        0.0        0.0        0.0        0.0   \n",
       "2  Abigail   F  Vlaanderen        0.0        0.0        8.0        0.0   \n",
       "3      Ada   F  Vlaanderen        0.0        0.0        0.0        0.0   \n",
       "4  Adeline   F  Vlaanderen       15.0       10.0       11.0        0.0   \n",
       "\n",
       "   year_1999  year_2000  year_2001    ...      year_2007  year_2008  \\\n",
       "0        5.0        0.0       12.0    ...           10.0       11.0   \n",
       "1        0.0        0.0        5.0    ...            8.0        7.0   \n",
       "2        0.0        0.0        5.0    ...            0.0        6.0   \n",
       "3        5.0        0.0        6.0    ...           12.0       19.0   \n",
       "4        0.0        0.0        0.0    ...            0.0        0.0   \n",
       "\n",
       "   year_2009  year_2010  year_2011  year_2012  year_2013  year_2014  \\\n",
       "0       12.0       11.0        8.0       11.0        7.0        0.0   \n",
       "1       14.0        9.0        9.0        7.0       10.0       11.0   \n",
       "2        7.0        8.0       16.0       11.0       10.0       10.0   \n",
       "3       17.0       20.0       24.0       19.0       28.0       32.0   \n",
       "4        0.0        5.0        6.0        8.0        0.0        8.0   \n",
       "\n",
       "   year_2015  year_2016  \n",
       "0        0.0        0.0  \n",
       "1        8.0       13.0  \n",
       "2       11.0       12.0  \n",
       "3       35.0       27.0  \n",
       "4        0.0       12.0  \n",
       "\n",
       "[5 rows x 25 columns]"
      ]
     },
     "execution_count": 10,
     "metadata": {},
     "output_type": "execute_result"
    }
   ],
   "source": [
    "popularity = pd.read_csv('../data/popularity.csv')\n",
    "popularity.head()"
   ]
  },
  {
   "cell_type": "code",
   "execution_count": 11,
   "metadata": {},
   "outputs": [
    {
     "data": {
      "text/plain": [
       "0     3dxqYZDIqnnbnJRwd9xF_1\n",
       "1     3dxqYZDIqnnbnJRwd9xF_1\n",
       "2     3dxqYZDIqnnbnJRwd9xF_1\n",
       "3     3dxqYZDIqnnbnJRwd9xF_1\n",
       "4     3dxqYZDIqnnbnJRwd9xF_2\n",
       "5     3dxqYZDIqnnbnJRwd9xF_2\n",
       "6     3dxqYZDIqnnbnJRwd9xF_2\n",
       "7     3dxqYZDIqnnbnJRwd9xF_2\n",
       "8     3dxqYZDIqnnbnJRwd9xF_3\n",
       "9     3dxqYZDIqnnbnJRwd9xF_3\n",
       "10    3dxqYZDIqnnbnJRwd9xF_3\n",
       "11    3dxqYZDIqnnbnJRwd9xF_3\n",
       "Name: question_id, dtype: object"
      ]
     },
     "execution_count": 11,
     "metadata": {},
     "output_type": "execute_result"
    }
   ],
   "source": [
    "df['question_id'] = df['model_id'] + '_' + df['question'].astype(str)\n",
    "df['question_id'].head(12)"
   ]
  },
  {
   "cell_type": "code",
   "execution_count": 12,
   "metadata": {},
   "outputs": [],
   "source": [
    "most_popular = (\n",
    "    pd.merge(\n",
    "        df, \n",
    "        popularity, \n",
    "        left_on = 'name', \n",
    "        right_on = 'name')\n",
    "     .sort_values('year_2016', ascending=False)\n",
    "     .groupby('question_id')['name'].first())\n",
    "clicked = df.sort_values('feedback', ascending=False).groupby('question_id')['name'].first()"
   ]
  },
  {
   "cell_type": "code",
   "execution_count": 13,
   "metadata": {},
   "outputs": [
    {
     "data": {
      "text/plain": [
       "question_id\n",
       "00329XrhSh1vtc7swjcP_1     Lucie\n",
       "00329XrhSh1vtc7swjcP_11    Emily\n",
       "00329XrhSh1vtc7swjcP_12     Lore\n",
       "00329XrhSh1vtc7swjcP_13     Emma\n",
       "00329XrhSh1vtc7swjcP_14     Ella\n",
       "Name: name, dtype: object"
      ]
     },
     "execution_count": 13,
     "metadata": {},
     "output_type": "execute_result"
    }
   ],
   "source": [
    "most_popular.head()"
   ]
  },
  {
   "cell_type": "code",
   "execution_count": 14,
   "metadata": {},
   "outputs": [
    {
     "data": {
      "text/plain": [
       "question_id\n",
       "00329XrhSh1vtc7swjcP_1        Mona\n",
       "00329XrhSh1vtc7swjcP_11    Paulien\n",
       "00329XrhSh1vtc7swjcP_12       Maya\n",
       "00329XrhSh1vtc7swjcP_13    Phaedra\n",
       "00329XrhSh1vtc7swjcP_14        Zoé\n",
       "Name: name, dtype: object"
      ]
     },
     "execution_count": 14,
     "metadata": {},
     "output_type": "execute_result"
    }
   ],
   "source": [
    "clicked.head()"
   ]
  },
  {
   "cell_type": "code",
   "execution_count": 15,
   "metadata": {},
   "outputs": [
    {
     "data": {
      "text/html": [
       "<div>\n",
       "<style>\n",
       "    .dataframe thead tr:only-child th {\n",
       "        text-align: right;\n",
       "    }\n",
       "\n",
       "    .dataframe thead th {\n",
       "        text-align: left;\n",
       "    }\n",
       "\n",
       "    .dataframe tbody tr th {\n",
       "        vertical-align: top;\n",
       "    }\n",
       "</style>\n",
       "<table border=\"1\" class=\"dataframe\">\n",
       "  <thead>\n",
       "    <tr style=\"text-align: right;\">\n",
       "      <th></th>\n",
       "      <th>clicked</th>\n",
       "      <th>most_popular</th>\n",
       "    </tr>\n",
       "    <tr>\n",
       "      <th>question_id</th>\n",
       "      <th></th>\n",
       "      <th></th>\n",
       "    </tr>\n",
       "  </thead>\n",
       "  <tbody>\n",
       "    <tr>\n",
       "      <th>00329XrhSh1vtc7swjcP_1</th>\n",
       "      <td>Mona</td>\n",
       "      <td>Lucie</td>\n",
       "    </tr>\n",
       "    <tr>\n",
       "      <th>00329XrhSh1vtc7swjcP_11</th>\n",
       "      <td>Paulien</td>\n",
       "      <td>Emily</td>\n",
       "    </tr>\n",
       "    <tr>\n",
       "      <th>00329XrhSh1vtc7swjcP_12</th>\n",
       "      <td>Maya</td>\n",
       "      <td>Lore</td>\n",
       "    </tr>\n",
       "    <tr>\n",
       "      <th>00329XrhSh1vtc7swjcP_13</th>\n",
       "      <td>Phaedra</td>\n",
       "      <td>Emma</td>\n",
       "    </tr>\n",
       "    <tr>\n",
       "      <th>00329XrhSh1vtc7swjcP_14</th>\n",
       "      <td>Zoé</td>\n",
       "      <td>Ella</td>\n",
       "    </tr>\n",
       "  </tbody>\n",
       "</table>\n",
       "</div>"
      ],
      "text/plain": [
       "                         clicked most_popular\n",
       "question_id                                  \n",
       "00329XrhSh1vtc7swjcP_1      Mona        Lucie\n",
       "00329XrhSh1vtc7swjcP_11  Paulien        Emily\n",
       "00329XrhSh1vtc7swjcP_12     Maya         Lore\n",
       "00329XrhSh1vtc7swjcP_13  Phaedra         Emma\n",
       "00329XrhSh1vtc7swjcP_14      Zoé         Ella"
      ]
     },
     "execution_count": 15,
     "metadata": {},
     "output_type": "execute_result"
    }
   ],
   "source": [
    "questions = pd.DataFrame({'most_popular':most_popular, 'clicked':clicked})\n",
    "questions.head()"
   ]
  },
  {
   "cell_type": "code",
   "execution_count": 16,
   "metadata": {},
   "outputs": [
    {
     "data": {
      "text/plain": [
       "0.36012228260869567"
      ]
     },
     "execution_count": 16,
     "metadata": {},
     "output_type": "execute_result"
    }
   ],
   "source": [
    "(questions['clicked'] == questions['most_popular']).mean()"
   ]
  },
  {
   "cell_type": "markdown",
   "metadata": {},
   "source": [
    "The popularity based recommender guesses clicks correctly **36%** of the time"
   ]
  },
  {
   "cell_type": "markdown",
   "metadata": {},
   "source": [
    "# Content-based recommender"
   ]
  },
  {
   "cell_type": "markdown",
   "metadata": {},
   "source": [
    "## Modeling for a single user"
   ]
  },
  {
   "cell_type": "code",
   "execution_count": 17,
   "metadata": {},
   "outputs": [],
   "source": [
    "feature_df = pd.read_csv('../data/features.csv', index_col=0)"
   ]
  },
  {
   "cell_type": "code",
   "execution_count": 18,
   "metadata": {},
   "outputs": [],
   "source": [
    "df['target'] = df['feedback'].map({-1:0, 3:1})"
   ]
  },
  {
   "cell_type": "code",
   "execution_count": 19,
   "metadata": {},
   "outputs": [
    {
     "data": {
      "text/html": [
       "<div>\n",
       "<style>\n",
       "    .dataframe thead tr:only-child th {\n",
       "        text-align: right;\n",
       "    }\n",
       "\n",
       "    .dataframe thead th {\n",
       "        text-align: left;\n",
       "    }\n",
       "\n",
       "    .dataframe tbody tr th {\n",
       "        vertical-align: top;\n",
       "    }\n",
       "</style>\n",
       "<table border=\"1\" class=\"dataframe\">\n",
       "  <thead>\n",
       "    <tr style=\"text-align: right;\">\n",
       "      <th></th>\n",
       "      <th>feedback</th>\n",
       "      <th>name</th>\n",
       "      <th>question</th>\n",
       "      <th>round</th>\n",
       "      <th>best_of_name</th>\n",
       "      <th>model_id</th>\n",
       "      <th>user_id</th>\n",
       "      <th>x_questions</th>\n",
       "      <th>question_id</th>\n",
       "      <th>target</th>\n",
       "      <th>...</th>\n",
       "      <th>year_2007</th>\n",
       "      <th>year_2008</th>\n",
       "      <th>year_2009</th>\n",
       "      <th>year_2010</th>\n",
       "      <th>year_2011</th>\n",
       "      <th>year_2012</th>\n",
       "      <th>year_2013</th>\n",
       "      <th>year_2014</th>\n",
       "      <th>year_2015</th>\n",
       "      <th>year_2016</th>\n",
       "    </tr>\n",
       "  </thead>\n",
       "  <tbody>\n",
       "    <tr>\n",
       "      <th>0</th>\n",
       "      <td>-1</td>\n",
       "      <td>Lara</td>\n",
       "      <td>1</td>\n",
       "      <td>1</td>\n",
       "      <td>False</td>\n",
       "      <td>c7z7Wj5hEiKDC3Rc4o8Y</td>\n",
       "      <td>Xj9I4oOb8y8QJU87CKNc</td>\n",
       "      <td>20</td>\n",
       "      <td>c7z7Wj5hEiKDC3Rc4o8Y_1</td>\n",
       "      <td>0</td>\n",
       "      <td>...</td>\n",
       "      <td>145.0</td>\n",
       "      <td>111.0</td>\n",
       "      <td>91.0</td>\n",
       "      <td>110.0</td>\n",
       "      <td>90.0</td>\n",
       "      <td>105.0</td>\n",
       "      <td>86.0</td>\n",
       "      <td>99.0</td>\n",
       "      <td>85.0</td>\n",
       "      <td>88.0</td>\n",
       "    </tr>\n",
       "    <tr>\n",
       "      <th>1</th>\n",
       "      <td>3</td>\n",
       "      <td>Lili</td>\n",
       "      <td>1</td>\n",
       "      <td>1</td>\n",
       "      <td>False</td>\n",
       "      <td>c7z7Wj5hEiKDC3Rc4o8Y</td>\n",
       "      <td>Xj9I4oOb8y8QJU87CKNc</td>\n",
       "      <td>20</td>\n",
       "      <td>c7z7Wj5hEiKDC3Rc4o8Y_1</td>\n",
       "      <td>1</td>\n",
       "      <td>...</td>\n",
       "      <td>30.0</td>\n",
       "      <td>25.0</td>\n",
       "      <td>38.0</td>\n",
       "      <td>34.0</td>\n",
       "      <td>43.0</td>\n",
       "      <td>46.0</td>\n",
       "      <td>43.0</td>\n",
       "      <td>55.0</td>\n",
       "      <td>34.0</td>\n",
       "      <td>31.0</td>\n",
       "    </tr>\n",
       "    <tr>\n",
       "      <th>2</th>\n",
       "      <td>-1</td>\n",
       "      <td>Victoria</td>\n",
       "      <td>1</td>\n",
       "      <td>1</td>\n",
       "      <td>False</td>\n",
       "      <td>c7z7Wj5hEiKDC3Rc4o8Y</td>\n",
       "      <td>Xj9I4oOb8y8QJU87CKNc</td>\n",
       "      <td>20</td>\n",
       "      <td>c7z7Wj5hEiKDC3Rc4o8Y_1</td>\n",
       "      <td>0</td>\n",
       "      <td>...</td>\n",
       "      <td>41.0</td>\n",
       "      <td>36.0</td>\n",
       "      <td>43.0</td>\n",
       "      <td>52.0</td>\n",
       "      <td>58.0</td>\n",
       "      <td>60.0</td>\n",
       "      <td>75.0</td>\n",
       "      <td>59.0</td>\n",
       "      <td>52.0</td>\n",
       "      <td>56.0</td>\n",
       "    </tr>\n",
       "    <tr>\n",
       "      <th>3</th>\n",
       "      <td>-1</td>\n",
       "      <td>Annabel</td>\n",
       "      <td>1</td>\n",
       "      <td>1</td>\n",
       "      <td>False</td>\n",
       "      <td>c7z7Wj5hEiKDC3Rc4o8Y</td>\n",
       "      <td>Xj9I4oOb8y8QJU87CKNc</td>\n",
       "      <td>20</td>\n",
       "      <td>c7z7Wj5hEiKDC3Rc4o8Y_1</td>\n",
       "      <td>0</td>\n",
       "      <td>...</td>\n",
       "      <td>19.0</td>\n",
       "      <td>24.0</td>\n",
       "      <td>26.0</td>\n",
       "      <td>19.0</td>\n",
       "      <td>38.0</td>\n",
       "      <td>22.0</td>\n",
       "      <td>31.0</td>\n",
       "      <td>34.0</td>\n",
       "      <td>23.0</td>\n",
       "      <td>28.0</td>\n",
       "    </tr>\n",
       "    <tr>\n",
       "      <th>4</th>\n",
       "      <td>3</td>\n",
       "      <td>Elise</td>\n",
       "      <td>2</td>\n",
       "      <td>1</td>\n",
       "      <td>True</td>\n",
       "      <td>c7z7Wj5hEiKDC3Rc4o8Y</td>\n",
       "      <td>Xj9I4oOb8y8QJU87CKNc</td>\n",
       "      <td>20</td>\n",
       "      <td>c7z7Wj5hEiKDC3Rc4o8Y_2</td>\n",
       "      <td>1</td>\n",
       "      <td>...</td>\n",
       "      <td>260.0</td>\n",
       "      <td>296.0</td>\n",
       "      <td>323.0</td>\n",
       "      <td>317.0</td>\n",
       "      <td>313.0</td>\n",
       "      <td>318.0</td>\n",
       "      <td>341.0</td>\n",
       "      <td>351.0</td>\n",
       "      <td>317.0</td>\n",
       "      <td>308.0</td>\n",
       "    </tr>\n",
       "    <tr>\n",
       "      <th>5</th>\n",
       "      <td>-1</td>\n",
       "      <td>Chaimae</td>\n",
       "      <td>2</td>\n",
       "      <td>1</td>\n",
       "      <td>False</td>\n",
       "      <td>c7z7Wj5hEiKDC3Rc4o8Y</td>\n",
       "      <td>Xj9I4oOb8y8QJU87CKNc</td>\n",
       "      <td>20</td>\n",
       "      <td>c7z7Wj5hEiKDC3Rc4o8Y_2</td>\n",
       "      <td>0</td>\n",
       "      <td>...</td>\n",
       "      <td>15.0</td>\n",
       "      <td>10.0</td>\n",
       "      <td>9.0</td>\n",
       "      <td>12.0</td>\n",
       "      <td>7.0</td>\n",
       "      <td>0.0</td>\n",
       "      <td>8.0</td>\n",
       "      <td>0.0</td>\n",
       "      <td>0.0</td>\n",
       "      <td>0.0</td>\n",
       "    </tr>\n",
       "    <tr>\n",
       "      <th>6</th>\n",
       "      <td>-1</td>\n",
       "      <td>Nell</td>\n",
       "      <td>2</td>\n",
       "      <td>1</td>\n",
       "      <td>False</td>\n",
       "      <td>c7z7Wj5hEiKDC3Rc4o8Y</td>\n",
       "      <td>Xj9I4oOb8y8QJU87CKNc</td>\n",
       "      <td>20</td>\n",
       "      <td>c7z7Wj5hEiKDC3Rc4o8Y_2</td>\n",
       "      <td>0</td>\n",
       "      <td>...</td>\n",
       "      <td>25.0</td>\n",
       "      <td>22.0</td>\n",
       "      <td>17.0</td>\n",
       "      <td>27.0</td>\n",
       "      <td>30.0</td>\n",
       "      <td>39.0</td>\n",
       "      <td>43.0</td>\n",
       "      <td>53.0</td>\n",
       "      <td>60.0</td>\n",
       "      <td>47.0</td>\n",
       "    </tr>\n",
       "    <tr>\n",
       "      <th>7</th>\n",
       "      <td>-1</td>\n",
       "      <td>Liv</td>\n",
       "      <td>2</td>\n",
       "      <td>1</td>\n",
       "      <td>False</td>\n",
       "      <td>c7z7Wj5hEiKDC3Rc4o8Y</td>\n",
       "      <td>Xj9I4oOb8y8QJU87CKNc</td>\n",
       "      <td>20</td>\n",
       "      <td>c7z7Wj5hEiKDC3Rc4o8Y_2</td>\n",
       "      <td>0</td>\n",
       "      <td>...</td>\n",
       "      <td>45.0</td>\n",
       "      <td>38.0</td>\n",
       "      <td>47.0</td>\n",
       "      <td>69.0</td>\n",
       "      <td>84.0</td>\n",
       "      <td>107.0</td>\n",
       "      <td>108.0</td>\n",
       "      <td>119.0</td>\n",
       "      <td>163.0</td>\n",
       "      <td>168.0</td>\n",
       "    </tr>\n",
       "    <tr>\n",
       "      <th>8</th>\n",
       "      <td>3</td>\n",
       "      <td>Martha</td>\n",
       "      <td>3</td>\n",
       "      <td>1</td>\n",
       "      <td>False</td>\n",
       "      <td>c7z7Wj5hEiKDC3Rc4o8Y</td>\n",
       "      <td>Xj9I4oOb8y8QJU87CKNc</td>\n",
       "      <td>20</td>\n",
       "      <td>c7z7Wj5hEiKDC3Rc4o8Y_3</td>\n",
       "      <td>1</td>\n",
       "      <td>...</td>\n",
       "      <td>15.0</td>\n",
       "      <td>18.0</td>\n",
       "      <td>16.0</td>\n",
       "      <td>25.0</td>\n",
       "      <td>35.0</td>\n",
       "      <td>38.0</td>\n",
       "      <td>35.0</td>\n",
       "      <td>41.0</td>\n",
       "      <td>36.0</td>\n",
       "      <td>36.0</td>\n",
       "    </tr>\n",
       "    <tr>\n",
       "      <th>9</th>\n",
       "      <td>-1</td>\n",
       "      <td>Laure</td>\n",
       "      <td>3</td>\n",
       "      <td>1</td>\n",
       "      <td>False</td>\n",
       "      <td>c7z7Wj5hEiKDC3Rc4o8Y</td>\n",
       "      <td>Xj9I4oOb8y8QJU87CKNc</td>\n",
       "      <td>20</td>\n",
       "      <td>c7z7Wj5hEiKDC3Rc4o8Y_3</td>\n",
       "      <td>0</td>\n",
       "      <td>...</td>\n",
       "      <td>88.0</td>\n",
       "      <td>84.0</td>\n",
       "      <td>76.0</td>\n",
       "      <td>90.0</td>\n",
       "      <td>69.0</td>\n",
       "      <td>96.0</td>\n",
       "      <td>78.0</td>\n",
       "      <td>84.0</td>\n",
       "      <td>79.0</td>\n",
       "      <td>87.0</td>\n",
       "    </tr>\n",
       "    <tr>\n",
       "      <th>10</th>\n",
       "      <td>-1</td>\n",
       "      <td>Shirley</td>\n",
       "      <td>3</td>\n",
       "      <td>1</td>\n",
       "      <td>False</td>\n",
       "      <td>c7z7Wj5hEiKDC3Rc4o8Y</td>\n",
       "      <td>Xj9I4oOb8y8QJU87CKNc</td>\n",
       "      <td>20</td>\n",
       "      <td>c7z7Wj5hEiKDC3Rc4o8Y_3</td>\n",
       "      <td>0</td>\n",
       "      <td>...</td>\n",
       "      <td>13.0</td>\n",
       "      <td>12.0</td>\n",
       "      <td>7.0</td>\n",
       "      <td>6.0</td>\n",
       "      <td>6.0</td>\n",
       "      <td>5.0</td>\n",
       "      <td>0.0</td>\n",
       "      <td>0.0</td>\n",
       "      <td>0.0</td>\n",
       "      <td>0.0</td>\n",
       "    </tr>\n",
       "    <tr>\n",
       "      <th>11</th>\n",
       "      <td>-1</td>\n",
       "      <td>Lisa</td>\n",
       "      <td>3</td>\n",
       "      <td>1</td>\n",
       "      <td>False</td>\n",
       "      <td>c7z7Wj5hEiKDC3Rc4o8Y</td>\n",
       "      <td>Xj9I4oOb8y8QJU87CKNc</td>\n",
       "      <td>20</td>\n",
       "      <td>c7z7Wj5hEiKDC3Rc4o8Y_3</td>\n",
       "      <td>0</td>\n",
       "      <td>...</td>\n",
       "      <td>205.0</td>\n",
       "      <td>178.0</td>\n",
       "      <td>169.0</td>\n",
       "      <td>204.0</td>\n",
       "      <td>201.0</td>\n",
       "      <td>180.0</td>\n",
       "      <td>141.0</td>\n",
       "      <td>147.0</td>\n",
       "      <td>140.0</td>\n",
       "      <td>139.0</td>\n",
       "    </tr>\n",
       "  </tbody>\n",
       "</table>\n",
       "<p>12 rows × 39 columns</p>\n",
       "</div>"
      ],
      "text/plain": [
       "    feedback      name  question  round  best_of_name              model_id  \\\n",
       "0         -1      Lara         1      1         False  c7z7Wj5hEiKDC3Rc4o8Y   \n",
       "1          3      Lili         1      1         False  c7z7Wj5hEiKDC3Rc4o8Y   \n",
       "2         -1  Victoria         1      1         False  c7z7Wj5hEiKDC3Rc4o8Y   \n",
       "3         -1   Annabel         1      1         False  c7z7Wj5hEiKDC3Rc4o8Y   \n",
       "4          3     Elise         2      1          True  c7z7Wj5hEiKDC3Rc4o8Y   \n",
       "5         -1   Chaimae         2      1         False  c7z7Wj5hEiKDC3Rc4o8Y   \n",
       "6         -1      Nell         2      1         False  c7z7Wj5hEiKDC3Rc4o8Y   \n",
       "7         -1       Liv         2      1         False  c7z7Wj5hEiKDC3Rc4o8Y   \n",
       "8          3    Martha         3      1         False  c7z7Wj5hEiKDC3Rc4o8Y   \n",
       "9         -1     Laure         3      1         False  c7z7Wj5hEiKDC3Rc4o8Y   \n",
       "10        -1   Shirley         3      1         False  c7z7Wj5hEiKDC3Rc4o8Y   \n",
       "11        -1      Lisa         3      1         False  c7z7Wj5hEiKDC3Rc4o8Y   \n",
       "\n",
       "                 user_id  x_questions             question_id  target  \\\n",
       "0   Xj9I4oOb8y8QJU87CKNc           20  c7z7Wj5hEiKDC3Rc4o8Y_1       0   \n",
       "1   Xj9I4oOb8y8QJU87CKNc           20  c7z7Wj5hEiKDC3Rc4o8Y_1       1   \n",
       "2   Xj9I4oOb8y8QJU87CKNc           20  c7z7Wj5hEiKDC3Rc4o8Y_1       0   \n",
       "3   Xj9I4oOb8y8QJU87CKNc           20  c7z7Wj5hEiKDC3Rc4o8Y_1       0   \n",
       "4   Xj9I4oOb8y8QJU87CKNc           20  c7z7Wj5hEiKDC3Rc4o8Y_2       1   \n",
       "5   Xj9I4oOb8y8QJU87CKNc           20  c7z7Wj5hEiKDC3Rc4o8Y_2       0   \n",
       "6   Xj9I4oOb8y8QJU87CKNc           20  c7z7Wj5hEiKDC3Rc4o8Y_2       0   \n",
       "7   Xj9I4oOb8y8QJU87CKNc           20  c7z7Wj5hEiKDC3Rc4o8Y_2       0   \n",
       "8   Xj9I4oOb8y8QJU87CKNc           20  c7z7Wj5hEiKDC3Rc4o8Y_3       1   \n",
       "9   Xj9I4oOb8y8QJU87CKNc           20  c7z7Wj5hEiKDC3Rc4o8Y_3       0   \n",
       "10  Xj9I4oOb8y8QJU87CKNc           20  c7z7Wj5hEiKDC3Rc4o8Y_3       0   \n",
       "11  Xj9I4oOb8y8QJU87CKNc           20  c7z7Wj5hEiKDC3Rc4o8Y_3       0   \n",
       "\n",
       "      ...      year_2007  year_2008  year_2009  year_2010  year_2011  \\\n",
       "0     ...          145.0      111.0       91.0      110.0       90.0   \n",
       "1     ...           30.0       25.0       38.0       34.0       43.0   \n",
       "2     ...           41.0       36.0       43.0       52.0       58.0   \n",
       "3     ...           19.0       24.0       26.0       19.0       38.0   \n",
       "4     ...          260.0      296.0      323.0      317.0      313.0   \n",
       "5     ...           15.0       10.0        9.0       12.0        7.0   \n",
       "6     ...           25.0       22.0       17.0       27.0       30.0   \n",
       "7     ...           45.0       38.0       47.0       69.0       84.0   \n",
       "8     ...           15.0       18.0       16.0       25.0       35.0   \n",
       "9     ...           88.0       84.0       76.0       90.0       69.0   \n",
       "10    ...           13.0       12.0        7.0        6.0        6.0   \n",
       "11    ...          205.0      178.0      169.0      204.0      201.0   \n",
       "\n",
       "    year_2012  year_2013  year_2014  year_2015  year_2016  \n",
       "0       105.0       86.0       99.0       85.0       88.0  \n",
       "1        46.0       43.0       55.0       34.0       31.0  \n",
       "2        60.0       75.0       59.0       52.0       56.0  \n",
       "3        22.0       31.0       34.0       23.0       28.0  \n",
       "4       318.0      341.0      351.0      317.0      308.0  \n",
       "5         0.0        8.0        0.0        0.0        0.0  \n",
       "6        39.0       43.0       53.0       60.0       47.0  \n",
       "7       107.0      108.0      119.0      163.0      168.0  \n",
       "8        38.0       35.0       41.0       36.0       36.0  \n",
       "9        96.0       78.0       84.0       79.0       87.0  \n",
       "10        5.0        0.0        0.0        0.0        0.0  \n",
       "11      180.0      141.0      147.0      140.0      139.0  \n",
       "\n",
       "[12 rows x 39 columns]"
      ]
     },
     "execution_count": 19,
     "metadata": {},
     "output_type": "execute_result"
    }
   ],
   "source": [
    "model_id = df['model_id'].sample().iloc[0]\n",
    "model_df = pd.merge(df[df['model_id']==model_id], feature_df, on='name')\n",
    "model_df.head(12)"
   ]
  },
  {
   "cell_type": "code",
   "execution_count": 20,
   "metadata": {},
   "outputs": [],
   "source": [
    "features = ['score_classic', 'dtw_vlaanderen_1',\n",
    "       'dtw_vlaanderen_2', 'score_typical_vl', 'score_typical_wal',\n",
    "       'score_typical_bxl']"
   ]
  },
  {
   "cell_type": "code",
   "execution_count": 21,
   "metadata": {},
   "outputs": [],
   "source": [
    "X = model_df[features]\n",
    "y = model_df['target']"
   ]
  },
  {
   "cell_type": "code",
   "execution_count": 22,
   "metadata": {},
   "outputs": [],
   "source": [
    "clf = RandomForestClassifier()"
   ]
  },
  {
   "cell_type": "code",
   "execution_count": 23,
   "metadata": {},
   "outputs": [
    {
     "data": {
      "text/plain": [
       "{'max_depth': 3, 'n_estimators': 200}"
      ]
     },
     "execution_count": 23,
     "metadata": {},
     "output_type": "execute_result"
    }
   ],
   "source": [
    "param_grid = {'n_estimators':[200], 'max_depth':[3]}\n",
    "clf_gs = GridSearchCV(clf,param_grid=param_grid, cv=4, n_jobs=-1)\n",
    "clf_gs.fit(X,y)\n",
    "clf_gs.best_params_"
   ]
  },
  {
   "cell_type": "markdown",
   "metadata": {},
   "source": [
    "## Find top 30"
   ]
  },
  {
   "cell_type": "code",
   "execution_count": 24,
   "metadata": {},
   "outputs": [],
   "source": [
    "X_other = feature_df.loc[~feature_df['name'].isin(model_df['name']), features]\n",
    "name_other = feature_df.loc[~feature_df['name'].isin(model_df['name']), 'name']"
   ]
  },
  {
   "cell_type": "code",
   "execution_count": 25,
   "metadata": {},
   "outputs": [],
   "source": [
    "best_clf = clf_gs.best_estimator_\n",
    "y_other = best_clf.predict_proba(X_other)[:,1]"
   ]
  },
  {
   "cell_type": "code",
   "execution_count": 26,
   "metadata": {},
   "outputs": [],
   "source": [
    "results = pd.DataFrame({'name':name_other, 'score':y_other})"
   ]
  },
  {
   "cell_type": "code",
   "execution_count": 27,
   "metadata": {},
   "outputs": [
    {
     "data": {
      "text/plain": [
       "536         Julie\n",
       "950          Sara\n",
       "414        Helena\n",
       "600         Laura\n",
       "24          Aline\n",
       "733         Manon\n",
       "74           Anna\n",
       "800      Michelle\n",
       "786       Melanie\n",
       "624         Leona\n",
       "793         Merel\n",
       "21          Alice\n",
       "286        Emilie\n",
       "979          Sien\n",
       "102        Astrid\n",
       "884       Paulien\n",
       "311        Esther\n",
       "165        Celine\n",
       "243         Edith\n",
       "1049         Vera\n",
       "44          Amber\n",
       "428           Ida\n",
       "232          Dina\n",
       "1017       Sylvia\n",
       "253         Elien\n",
       "1005    Stephanie\n",
       "614          Lena\n",
       "1014      Suzanne\n",
       "906         Renée\n",
       "547          Kaat\n",
       "Name: name, dtype: object"
      ]
     },
     "execution_count": 27,
     "metadata": {},
     "output_type": "execute_result"
    }
   ],
   "source": [
    "results.sort_values('score', ascending=False)['name'].head(30)"
   ]
  },
  {
   "cell_type": "markdown",
   "metadata": {},
   "source": [
    "## Estimate model performance"
   ]
  },
  {
   "cell_type": "code",
   "execution_count": 28,
   "metadata": {},
   "outputs": [],
   "source": [
    "cv_score = cross_val_predict(best_clf,X,y, cv=8,n_jobs=-1, method='predict_proba')[:,1]"
   ]
  },
  {
   "cell_type": "code",
   "execution_count": 29,
   "metadata": {},
   "outputs": [],
   "source": [
    "model_df['cv_score'] = cv_score"
   ]
  },
  {
   "cell_type": "code",
   "execution_count": 30,
   "metadata": {},
   "outputs": [
    {
     "name": "stdout",
     "output_type": "stream",
     "text": [
      "CPU times: user 5.39 ms, sys: 2.73 ms, total: 8.13 ms\n",
      "Wall time: 6.47 ms\n",
      "CPU times: user 3.99 ms, sys: 568 µs, total: 4.56 ms\n",
      "Wall time: 4.13 ms\n"
     ]
    }
   ],
   "source": [
    "%time best_score = (model_df.sort_values('cv_score', ascending=False).groupby('question_id')['name'].first())\n",
    "%time clicked = model_df.sort_values('feedback', ascending=False).groupby('question_id')['name'].first()"
   ]
  },
  {
   "cell_type": "code",
   "execution_count": 31,
   "metadata": {},
   "outputs": [
    {
     "data": {
      "text/html": [
       "<div>\n",
       "<style>\n",
       "    .dataframe thead tr:only-child th {\n",
       "        text-align: right;\n",
       "    }\n",
       "\n",
       "    .dataframe thead th {\n",
       "        text-align: left;\n",
       "    }\n",
       "\n",
       "    .dataframe tbody tr th {\n",
       "        vertical-align: top;\n",
       "    }\n",
       "</style>\n",
       "<table border=\"1\" class=\"dataframe\">\n",
       "  <thead>\n",
       "    <tr style=\"text-align: right;\">\n",
       "      <th></th>\n",
       "      <th>best_score</th>\n",
       "      <th>clicked</th>\n",
       "    </tr>\n",
       "    <tr>\n",
       "      <th>question_id</th>\n",
       "      <th></th>\n",
       "      <th></th>\n",
       "    </tr>\n",
       "  </thead>\n",
       "  <tbody>\n",
       "    <tr>\n",
       "      <th>c7z7Wj5hEiKDC3Rc4o8Y_1</th>\n",
       "      <td>Lara</td>\n",
       "      <td>Lili</td>\n",
       "    </tr>\n",
       "    <tr>\n",
       "      <th>c7z7Wj5hEiKDC3Rc4o8Y_11</th>\n",
       "      <td>Nora</td>\n",
       "      <td>Nora</td>\n",
       "    </tr>\n",
       "    <tr>\n",
       "      <th>c7z7Wj5hEiKDC3Rc4o8Y_12</th>\n",
       "      <td>Emma</td>\n",
       "      <td>Emma</td>\n",
       "    </tr>\n",
       "    <tr>\n",
       "      <th>c7z7Wj5hEiKDC3Rc4o8Y_13</th>\n",
       "      <td>Marie</td>\n",
       "      <td>Lize</td>\n",
       "    </tr>\n",
       "    <tr>\n",
       "      <th>c7z7Wj5hEiKDC3Rc4o8Y_14</th>\n",
       "      <td>Lea</td>\n",
       "      <td>Floor</td>\n",
       "    </tr>\n",
       "    <tr>\n",
       "      <th>c7z7Wj5hEiKDC3Rc4o8Y_16</th>\n",
       "      <td>Hannah</td>\n",
       "      <td>Hannah</td>\n",
       "    </tr>\n",
       "    <tr>\n",
       "      <th>c7z7Wj5hEiKDC3Rc4o8Y_17</th>\n",
       "      <td>Chloé</td>\n",
       "      <td>Chloé</td>\n",
       "    </tr>\n",
       "    <tr>\n",
       "      <th>c7z7Wj5hEiKDC3Rc4o8Y_18</th>\n",
       "      <td>Josephine</td>\n",
       "      <td>Josephine</td>\n",
       "    </tr>\n",
       "    <tr>\n",
       "      <th>c7z7Wj5hEiKDC3Rc4o8Y_19</th>\n",
       "      <td>Fien</td>\n",
       "      <td>Elisa</td>\n",
       "    </tr>\n",
       "    <tr>\n",
       "      <th>c7z7Wj5hEiKDC3Rc4o8Y_2</th>\n",
       "      <td>Elise</td>\n",
       "      <td>Elise</td>\n",
       "    </tr>\n",
       "    <tr>\n",
       "      <th>c7z7Wj5hEiKDC3Rc4o8Y_3</th>\n",
       "      <td>Lisa</td>\n",
       "      <td>Martha</td>\n",
       "    </tr>\n",
       "    <tr>\n",
       "      <th>c7z7Wj5hEiKDC3Rc4o8Y_4</th>\n",
       "      <td>Pauline</td>\n",
       "      <td>Hanne</td>\n",
       "    </tr>\n",
       "    <tr>\n",
       "      <th>c7z7Wj5hEiKDC3Rc4o8Y_6</th>\n",
       "      <td>Eva</td>\n",
       "      <td>Lise</td>\n",
       "    </tr>\n",
       "    <tr>\n",
       "      <th>c7z7Wj5hEiKDC3Rc4o8Y_7</th>\n",
       "      <td>Camille</td>\n",
       "      <td>Camille</td>\n",
       "    </tr>\n",
       "    <tr>\n",
       "      <th>c7z7Wj5hEiKDC3Rc4o8Y_8</th>\n",
       "      <td>Lotte</td>\n",
       "      <td>Lotte</td>\n",
       "    </tr>\n",
       "    <tr>\n",
       "      <th>c7z7Wj5hEiKDC3Rc4o8Y_9</th>\n",
       "      <td>Linde</td>\n",
       "      <td>Charlotte</td>\n",
       "    </tr>\n",
       "  </tbody>\n",
       "</table>\n",
       "</div>"
      ],
      "text/plain": [
       "                        best_score    clicked\n",
       "question_id                                  \n",
       "c7z7Wj5hEiKDC3Rc4o8Y_1        Lara       Lili\n",
       "c7z7Wj5hEiKDC3Rc4o8Y_11       Nora       Nora\n",
       "c7z7Wj5hEiKDC3Rc4o8Y_12       Emma       Emma\n",
       "c7z7Wj5hEiKDC3Rc4o8Y_13      Marie       Lize\n",
       "c7z7Wj5hEiKDC3Rc4o8Y_14        Lea      Floor\n",
       "c7z7Wj5hEiKDC3Rc4o8Y_16     Hannah     Hannah\n",
       "c7z7Wj5hEiKDC3Rc4o8Y_17      Chloé      Chloé\n",
       "c7z7Wj5hEiKDC3Rc4o8Y_18  Josephine  Josephine\n",
       "c7z7Wj5hEiKDC3Rc4o8Y_19       Fien      Elisa\n",
       "c7z7Wj5hEiKDC3Rc4o8Y_2       Elise      Elise\n",
       "c7z7Wj5hEiKDC3Rc4o8Y_3        Lisa     Martha\n",
       "c7z7Wj5hEiKDC3Rc4o8Y_4     Pauline      Hanne\n",
       "c7z7Wj5hEiKDC3Rc4o8Y_6         Eva       Lise\n",
       "c7z7Wj5hEiKDC3Rc4o8Y_7     Camille    Camille\n",
       "c7z7Wj5hEiKDC3Rc4o8Y_8       Lotte      Lotte\n",
       "c7z7Wj5hEiKDC3Rc4o8Y_9       Linde  Charlotte"
      ]
     },
     "execution_count": 31,
     "metadata": {},
     "output_type": "execute_result"
    }
   ],
   "source": [
    "questions = pd.DataFrame({'best_score':best_score, 'clicked':clicked})\n",
    "questions"
   ]
  },
  {
   "cell_type": "code",
   "execution_count": 32,
   "metadata": {},
   "outputs": [
    {
     "data": {
      "text/plain": [
       "0.5"
      ]
     },
     "execution_count": 32,
     "metadata": {},
     "output_type": "execute_result"
    }
   ],
   "source": [
    "(questions['clicked'] == questions['best_score']).mean()"
   ]
  },
  {
   "cell_type": "markdown",
   "metadata": {},
   "source": [
    "## Estimate performance on many users"
   ]
  },
  {
   "cell_type": "code",
   "execution_count": 33,
   "metadata": {},
   "outputs": [],
   "source": [
    "correctness = {}\n",
    "for model_id in df['model_id'].drop_duplicates().sample(50):\n",
    "    model_df = pd.merge(df[df['model_id']==model_id], feature_df, on='name', how='inner')\n",
    "    X = model_df[features]\n",
    "    y = model_df['target']\n",
    "    #clf_gs.fit(X,y)\n",
    "    cv_score = cross_val_predict(best_clf,X,y, cv=3, method='predict_proba', n_jobs=-1)[:,1]\n",
    "    model_df['cv_score'] = cv_score\n",
    "    best_score = (model_df.sort_values('cv_score', ascending=False).groupby('question_id')['name'].first())\n",
    "    clicked = model_df.sort_values('feedback', ascending=False).groupby('question_id')['name'].first()\n",
    "    questions = pd.DataFrame({'best_score':best_score, 'clicked':clicked})\n",
    "    correctness[model_id] = (questions['clicked'] == questions['best_score']).mean()\n",
    "correctness = pd.Series(correctness)"
   ]
  },
  {
   "cell_type": "code",
   "execution_count": 35,
   "metadata": {},
   "outputs": [
    {
     "data": {
      "text/plain": [
       "<matplotlib.axes._subplots.AxesSubplot at 0x116ad76d8>"
      ]
     },
     "execution_count": 35,
     "metadata": {},
     "output_type": "execute_result"
    },
    {
     "data": {
      "image/png": "[encoded data removed]",
      "text/plain": [
       "<matplotlib.figure.Figure at 0x10d0a5748>"
      ]
     },
     "metadata": {},
     "output_type": "display_data"
    }
   ],
   "source": [
    "pd.Series(correctness).value_counts().sort_index().plot(marker='o')"
   ]
  },
  {
   "cell_type": "code",
   "execution_count": 36,
   "metadata": {},
   "outputs": [
    {
     "data": {
      "text/plain": [
       "0.3075"
      ]
     },
     "execution_count": 36,
     "metadata": {},
     "output_type": "execute_result"
    }
   ],
   "source": [
    "correctness.mean()"
   ]
  },
  {
   "cell_type": "code",
   "execution_count": null,
   "metadata": {},
   "outputs": [],
   "source": []
  }
 ],
 "metadata": {
  "kernelspec": {
   "display_name": "Python 3",
   "language": "python",
   "name": "python3"
  },
  "language_info": {
   "codemirror_mode": {
    "name": "ipython",
    "version": 3
   },
   "file_extension": ".py",
   "mimetype": "text/x-python",
   "name": "python",
   "nbconvert_exporter": "python",
   "pygments_lexer": "ipython3",
   "version": "3.5.4"
  }
 },
 "nbformat": 4,
 "nbformat_minor": 1
}
